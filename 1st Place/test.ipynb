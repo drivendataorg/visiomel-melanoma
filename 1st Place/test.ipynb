{
 "cells": [
  {
   "cell_type": "code",
   "execution_count": null,
   "metadata": {
    "id": "TwcJGsQDhFhH"
   },
   "outputs": [],
   "source": [
    "#donwload pretrained models\n",
    "!gdown -O models.zip 1dohuMdbD_NWsFb-RFw8GJwPgD_vVmMqQ\n",
    "!unzip -qqnd workspace models.zip"
   ]
  },
  {
   "cell_type": "markdown",
   "metadata": {
    "id": "LEn5JJqyNMeK"
   },
   "source": [
    "# Prepare datasets"
   ]
  },
  {
   "cell_type": "code",
   "execution_count": null,
   "metadata": {
    "colab": {
     "base_uri": "https://localhost:8080/"
    },
    "id": "7-syO9-LUFO3",
    "outputId": "b11407e8-d259-480b-8558-21c2cbac2778"
   },
   "outputs": [
    {
     "name": "stdout",
     "output_type": "stream",
     "text": [
      "##### EXTRACTING PAGE 5 DATASETS #####\n",
      "##### DONE EXTRACTING PAGE 5 DATASETS TOTAL TIME: 0:00:02.139800 #####\n"
     ]
    }
   ],
   "source": [
    "# generate resized datasets from page 5\n",
    "!python gen_p5_datasets.py --stage test --raw_img_dir workspace/data/test/whole_slides --meta_csv_path workspace/data/test/test_metadata.csv\n"
   ]
  },
  {
   "cell_type": "code",
   "execution_count": null,
   "metadata": {
    "colab": {
     "base_uri": "https://localhost:8080/"
    },
    "id": "yJ9mFyUjNOJd",
    "outputId": "bd6b51c2-2c92-479c-ba62-335a2ecd9c3e"
   },
   "outputs": [
    {
     "name": "stdout",
     "output_type": "stream",
     "text": [
      "##### MASKING SLIDES #####\n",
      "Applying filters to images (multiprocess)\n",
      "\n",
      "Number of processes: 2 Number of training images: 16\n",
      "Time to apply filters to all images (multiprocess): 0:00:30.031535\n",
      "\n",
      "##### TIME MASKING SLIDES: 0:00:30.051287 #####\n",
      "##### GENERATING TILE META 56 tile sizes: {0: 1792, 1: 896, 2: 448, 3: 224, 4: 112} #####\n",
      "Number of processes: 2 Number of training images: 16\n",
      "##### GENERATING TILES 56_3_224 #####\n",
      "##### DONE GENERATING TILES 56_3_224 TOTAL TIME: 0:00:32.646916 #####\n",
      "##### GENERATING TILE META 40 tile sizes: {0: 1280, 1: 640, 2: 320, 3: 160, 4: 80} #####\n",
      "Number of processes: 2 Number of training images: 16\n",
      "##### GENERATING TILES 40_2_320 #####\n",
      "##### DONE GENERATING TILES 40_2_320 TOTAL TIME: 0:00:41.398395 #####\n"
     ]
    }
   ],
   "source": [
    "# extract tiles\n",
    "!python gen_masks.py --stage test --raw_img_dir workspace/data/test/whole_slides --meta_csv_path workspace/data/test/test_metadata.csv\n",
    "!python gen_tiles_56_p3_224.py --stage test --raw_img_dir workspace/data/test/whole_slides --meta_csv_path workspace/data/test/test_metadata.csv\n",
    "!python gen_tiles_40_p3_320.py --stage test --raw_img_dir workspace/data/test/whole_slides --meta_csv_path workspace/data/test/test_metadata.csv\n"
   ]
  },
  {
   "cell_type": "code",
   "execution_count": null,
   "metadata": {
    "colab": {
     "base_uri": "https://localhost:8080/"
    },
    "id": "QHOeyT90NOMs",
    "outputId": "3c9a14b4-6ce6-4168-f9f0-3e15301985ae"
   },
   "outputs": [
    {
     "name": "stdout",
     "output_type": "stream",
     "text": [
      "tile directory: ./workspace/data/test/tiles/56/3_224\n",
      "embedder_model_path: workspace/models/resnet18-f37072fd.pth\n",
      "##### GENERATING EMBEDDINGS expr_56_3_224, device: cuda n_tiles: 3559  #####\n",
      "2 427 746 746\n",
      "##### DONE EMBEDDING expr_56_3_224 TOTAL TIME: 0:00:33.484483 #####\n",
      "tile directory: ./workspace/data/test/tiles/40/2_320\n",
      "embedder_model_path: workspace/models/resnet18-f37072fd.pth\n",
      "##### GENERATING EMBEDDINGS expr_40_2_320, device: cuda n_tiles: 3364  #####\n",
      "21 342 512 511\n",
      "##### DONE EMBEDDING expr_40_2_320 TOTAL TIME: 0:00:37.111578 #####\n"
     ]
    }
   ],
   "source": [
    "# generate embeddings\n",
    "!python gen_embeddings.py --expr expr_56_3_224 --stage test --meta_csv_path workspace/data/test/test_metadata.csv\n",
    "!python gen_embeddings.py --expr expr_40_2_320 --stage test --meta_csv_path workspace/data/test/test_metadata.csv"
   ]
  },
  {
   "cell_type": "markdown",
   "metadata": {
    "id": "ZPgSAb2eOKaH"
   },
   "source": [
    "# Inference"
   ]
  },
  {
   "cell_type": "code",
   "execution_count": null,
   "metadata": {
    "colab": {
     "base_uri": "https://localhost:8080/"
    },
    "id": "5oB20133O9eK",
    "outputId": "095448a2-4f9e-421b-bf82-b4a9eb4231e6"
   },
   "outputs": [
    {
     "name": "stdout",
     "output_type": "stream",
     "text": [
      "GENERATING p5 swin384 swin_large_patch4_window12_384 PREDICTIONS\n",
      "/usr/local/lib/python3.10/dist-packages/torch/functional.py:504: UserWarning: torch.meshgrid: in an upcoming release, it will be required to pass the indexing argument. (Triggered internally at ../aten/src/ATen/native/TensorShape.cpp:3190.)\n",
      "  return _VF.meshgrid(tensors, **kwargs)  # type: ignore[attr-defined]\n",
      "GENERATING p5 swin256 swinv2_base_window12to16_192to256_22kft1k PREDICTIONS\n",
      "/usr/local/lib/python3.10/dist-packages/torch/functional.py:504: UserWarning: torch.meshgrid: in an upcoming release, it will be required to pass the indexing argument. (Triggered internally at ../aten/src/ATen/native/TensorShape.cpp:3190.)\n",
      "  return _VF.meshgrid(tensors, **kwargs)  # type: ignore[attr-defined]\n"
     ]
    }
   ],
   "source": [
    "#generate test swin model predictions\n",
    "for EXPR in ['swin384','swin256']:\n",
    "  !python gen_preds_swin_test.py --expr {EXPR} --meta_csv_path workspace/data/test/test_metadata.csv \n"
   ]
  },
  {
   "cell_type": "code",
   "execution_count": null,
   "metadata": {
    "colab": {
     "base_uri": "https://localhost:8080/"
    },
    "id": "NUrgJrbNRTq0",
    "outputId": "caaa194c-82b1-495a-c5b3-a5501346b38f"
   },
   "outputs": [
    {
     "name": "stdout",
     "output_type": "stream",
     "text": [
      "VMelTilesDataset torch.Size([251, 512]) torch.Size([251, 2]) 16\n",
      "GENERATING expr_56_3_224 breslow predictions\n",
      "VMelTilesDataset torch.Size([251, 512]) torch.Size([251, 2]) 16\n",
      "GENERATING expr_56_3_224 ulceration predictions\n",
      "VMelTilesDataset torch.Size([332, 512]) torch.Size([332, 2]) 16\n",
      "GENERATING expr_40_2_320 breslow predictions\n",
      "VMelTilesDataset torch.Size([332, 512]) torch.Size([332, 2]) 16\n",
      "GENERATING expr_40_2_320 ulceration predictions\n"
     ]
    }
   ],
   "source": [
    "#generate test predictions for factors (breslow, ulceration)\n",
    "for EXPR,SEED in [('expr_56_3_224',41),('expr_40_2_320',320)]:\n",
    "  for VAR in ['breslow','ulceration']:\n",
    "    !python gen_factors_test.py --expr {EXPR} --var {VAR} --seed {SEED} --meta_csv_path workspace/data/test/test_metadata.csv "
   ]
  },
  {
   "cell_type": "code",
   "execution_count": null,
   "metadata": {
    "colab": {
     "base_uri": "https://localhost:8080/"
    },
    "id": "NxAKgw78RmCL",
    "outputId": "9515cdd6-b6a8-4416-c92a-815b8b43daf0"
   },
   "outputs": [
    {
     "name": "stdout",
     "output_type": "stream",
     "text": [
      "factors (16, 3) data (16, 4)\n",
      "factors (16, 3) data (16, 4)\n"
     ]
    }
   ],
   "source": [
    "#generate test mlp predictions \n",
    "for EXPR in ['expr_56_3_224','expr_40_2_320']:\n",
    "  !python gen_preds_mil_test.py --expr {EXPR} --meta_csv_path workspace/data/test/test_metadata.csv "
   ]
  },
  {
   "cell_type": "code",
   "execution_count": null,
   "metadata": {
    "colab": {
     "base_uri": "https://localhost:8080/"
    },
    "id": "h8qIkYITeiXG",
    "outputId": "129f799c-ef63-4772-9f3a-09fd9f8230b6"
   },
   "outputs": [
    {
     "name": "stdout",
     "output_type": "stream",
     "text": [
      "writting submission to submission.csv\n"
     ]
    }
   ],
   "source": [
    "!python create_submission.py --submission_format_csv_path workspace/data/test/submission_format.csv"
   ]
  }
 ],
 "metadata": {
  "accelerator": "GPU",
  "colab": {
   "gpuType": "T4",
   "provenance": []
  },
  "gpuClass": "standard",
  "kernelspec": {
   "display_name": "Python 3 (ipykernel)",
   "language": "python",
   "name": "python3"
  },
  "language_info": {
   "codemirror_mode": {
    "name": "ipython",
    "version": 3
   },
   "file_extension": ".py",
   "mimetype": "text/x-python",
   "name": "python",
   "nbconvert_exporter": "python",
   "pygments_lexer": "ipython3",
   "version": "3.8.16"
  }
 },
 "nbformat": 4,
 "nbformat_minor": 4
}
