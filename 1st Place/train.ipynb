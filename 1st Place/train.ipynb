{
 "cells": [
  {
   "cell_type": "code",
   "execution_count": null,
   "metadata": {
    "collapsed": false,
    "jupyter": {
     "outputs_hidden": false
    }
   },
   "outputs": [],
   "source": [
    "#download pretrained ResNet 18 models\n",
    "!wget -O workspace/models/resnet18-f37072fd.pth https://download.pytorch.org/models/resnet18-f37072fd.pth"
   ]
  },
  {
   "cell_type": "code",
   "execution_count": null,
   "metadata": {
    "collapsed": false,
    "id": "wNF8dx2zmoSx",
    "jupyter": {
     "outputs_hidden": false
    }
   },
   "outputs": [],
   "source": [
    "# !gdown -O models.zip 1dohuMdbD_NWsFb-RFw8GJwPgD_vVmMqQ\n",
    "# !unzip -qqnd workspace models.zip"
   ]
  },
  {
   "cell_type": "code",
   "execution_count": null,
   "metadata": {
    "collapsed": false,
    "id": "bKHVINyELH-W",
    "jupyter": {
     "outputs_hidden": false
    }
   },
   "outputs": [],
   "source": [
    "# extract tiles\n",
    "# generate embeddings\n",
    "# generate resized datasets from page 5\n",
    "# train factors\n",
    "# extract factors\n",
    "# train relapse model\n"
   ]
  },
  {
   "cell_type": "markdown",
   "metadata": {
    "collapsed": false,
    "id": "DwDll2fd8OhJ",
    "jupyter": {
     "outputs_hidden": false
    }
   },
   "source": [
    "# Prepare datasets"
   ]
  },
  {
   "cell_type": "code",
   "execution_count": null,
   "metadata": {
    "collapsed": false,
    "id": "8YIok2oEJjDQ",
    "jupyter": {
     "outputs_hidden": false
    }
   },
   "outputs": [
    {
     "name": "stdout",
     "output_type": "stream",
     "text": [
      "##### EXTRACTING PAGE 5 DATASETS #####\r\n"
     ]
    }
   ],
   "source": [
    "# generate resized datasets from page 5\n",
    "!python gen_p5_datasets.py --stage train --raw_img_dir workspace/data/train/whole_slides --meta_csv_path workspace/data/train/train_metadata.csv"
   ]
  },
  {
   "cell_type": "code",
   "execution_count": null,
   "metadata": {
    "collapsed": false,
    "id": "nhrReUNqMIfn",
    "jupyter": {
     "outputs_hidden": false
    }
   },
   "outputs": [],
   "source": [
    "# extract tiles\n",
    "!python gen_masks.py --stage train --raw_img_dir workspace/data/train/whole_slides --meta_csv_path workspace/data/train/train_metadata.csv\n",
    "!python gen_tiles_56_p3_224.py --stage train --raw_img_dir workspace/data/train/whole_slides --meta_csv_path workspace/data/train/train_metadata.csv\n",
    "!python gen_tiles_40_p3_320.py --stage train --raw_img_dir workspace/data/train/whole_slides --meta_csv_path workspace/data/train/train_metadata.csv\n"
   ]
  },
  {
   "cell_type": "code",
   "execution_count": null,
   "metadata": {
    "collapsed": false,
    "id": "4WhTf8ll7dlB",
    "jupyter": {
     "outputs_hidden": false
    }
   },
   "outputs": [],
   "source": [
    "# generate embeddings\n",
    "!python gen_embeddings.py --expr expr_56_3_224 --stage train --meta_csv_path workspace/data/train/train_metadata.csv\n",
    "!python gen_embeddings.py --expr expr_40_2_320 --stage train --meta_csv_path workspace/data/train/train_metadata.csv"
   ]
  },
  {
   "cell_type": "markdown",
   "metadata": {
    "collapsed": false,
    "id": "S_wwScS78Qnc",
    "jupyter": {
     "outputs_hidden": false
    }
   },
   "source": [
    "# Train"
   ]
  },
  {
   "cell_type": "code",
   "execution_count": null,
   "metadata": {
    "collapsed": false,
    "id": "N4cnG5NmMIi-",
    "jupyter": {
     "outputs_hidden": false
    }
   },
   "outputs": [],
   "source": [
    "#train swin384 model\n",
    "EXPR='swin384'\n",
    "for FOLD in range(5):\n",
    "    !python train_swin.py --expr {EXPR} --fold {FOLD} --meta_csv_path workspace/data/train/train_metadata.csv --label_csv_path workspace/data/train/train_labels.csv\n",
    "    !rm -rf output"
   ]
  },
  {
   "cell_type": "code",
   "execution_count": null,
   "metadata": {
    "collapsed": false,
    "id": "LMdempYg1O7A",
    "jupyter": {
     "outputs_hidden": false
    }
   },
   "outputs": [],
   "source": [
    "#train swin256 model\n",
    "EXPR='swin256'\n",
    "for FOLD in range(5):\n",
    "    !python train_swin.py --expr {EXPR} --fold {FOLD} --meta_csv_path workspace/data/train/train_metadata.csv --label_csv_path workspace/data/train/train_labels.csv\n",
    "    !rm -rf output"
   ]
  },
  {
   "cell_type": "code",
   "execution_count": null,
   "metadata": {
    "collapsed": false,
    "id": "0fU6H8WZ1RYQ",
    "jupyter": {
     "outputs_hidden": false
    }
   },
   "outputs": [],
   "source": [
    "#train relapse predictive factors (breslow, ulceration)\n",
    "for EXPR,SEED in [('expr_56_3_224',41),('expr_40_2_320',320)]:\n",
    "  for VAR in ['breslow','ulceration']:\n",
    "    !python train_factors.py --expr {EXPR} --var {VAR} --seed {SEED} --meta_csv_path workspace/data/train/train_metadata.csv --label_csv_path workspace/data/train/train_labels.csv\n"
   ]
  },
  {
   "cell_type": "code",
   "execution_count": null,
   "metadata": {
    "collapsed": false,
    "id": "PrkinAJV1Vcx",
    "jupyter": {
     "outputs_hidden": false
    }
   },
   "outputs": [],
   "source": [
    "#generate oof predictions for factors (breslow, ulceration)\n",
    "for EXPR,SEED in [('expr_56_3_224',41),('expr_40_2_320',320)]:\n",
    "  for VAR in ['breslow','ulceration']:\n",
    "    !python gen_factors_train.py --expr {EXPR} --var {VAR} --seed {SEED} --meta_csv_path workspace/data/train/train_metadata.csv --label_csv_path workspace/data/train/train_labels.csv\n"
   ]
  },
  {
   "cell_type": "code",
   "execution_count": null,
   "metadata": {
    "collapsed": false,
    "id": "B7rAbCV61XGz",
    "jupyter": {
     "outputs_hidden": false
    }
   },
   "outputs": [],
   "source": [
    "#train mlp with breslow and ulceration predictions as features\n",
    "for EXPR in ['expr_56_3_224','expr_40_2_320']:\n",
    "  !python train_mlp.py --expr {EXPR} --meta_csv_path workspace/data/train/train_metadata.csv --label_csv_path workspace/data/train/train_labels.csv\n",
    "  "
   ]
  },
  {
   "cell_type": "markdown",
   "metadata": {
    "collapsed": false,
    "id": "imClDgLX1fWi",
    "jupyter": {
     "outputs_hidden": false
    }
   },
   "source": [
    "# (optional) evaluate training set"
   ]
  },
  {
   "cell_type": "code",
   "execution_count": null,
   "metadata": {
    "collapsed": false,
    "id": "NRwJGLjJ11sM",
    "jupyter": {
     "outputs_hidden": false
    }
   },
   "outputs": [],
   "source": [
    "#eval swin384 model\n",
    "EXPR='swin384'\n",
    "!python gen_preds_swin_train.py --expr {EXPR} --meta_csv_path workspace/data/train/train_metadata.csv --label_csv_path workspace/data/train/train_labels.csv\n"
   ]
  },
  {
   "cell_type": "code",
   "execution_count": null,
   "metadata": {
    "collapsed": false,
    "id": "envFJg4K7cE5",
    "jupyter": {
     "outputs_hidden": false
    }
   },
   "outputs": [],
   "source": [
    "#eval swin256 model\n",
    "EXPR='swin256'\n",
    "!python gen_preds_swin_train.py --expr {EXPR} --meta_csv_path workspace/data/train/train_metadata.csv --label_csv_path workspace/data/train/train_labels.csv\n"
   ]
  },
  {
   "cell_type": "code",
   "execution_count": null,
   "metadata": {
    "collapsed": false,
    "id": "F2CLOqTF1ahg",
    "jupyter": {
     "outputs_hidden": false
    }
   },
   "outputs": [],
   "source": [
    "import pandas as pd, glob\n",
    "import sklearn.metrics as skm\n",
    "ROOT_PRED_DIR = f'./workspace/preds/train'"
   ]
  },
  {
   "cell_type": "code",
   "execution_count": null,
   "metadata": {
    "collapsed": false,
    "id": "K8NWlbR61c-e",
    "jupyter": {
     "outputs_hidden": false
    }
   },
   "outputs": [],
   "source": [
    "EXPR='expr_56_3_224'\n",
    "d0=pd.concat(pd.read_csv(p) for p in glob.glob(f'{ROOT_PRED_DIR}/{EXPR}/pred_*.csv'))\n",
    "d0=d0.groupby('filename').mean().reset_index()\n",
    "skm.log_loss(d0.relapse,d0.pred)\n",
    "# 0.3400659913829507"
   ]
  },
  {
   "cell_type": "code",
   "execution_count": null,
   "metadata": {
    "collapsed": false,
    "id": "fdjqEnSs1j7s",
    "jupyter": {
     "outputs_hidden": false
    }
   },
   "outputs": [],
   "source": [
    "EXPR='expr_40_2_320'\n",
    "d1=pd.concat(pd.read_csv(p) for p in glob.glob(f'{ROOT_PRED_DIR}/{EXPR}/pred_*.csv'))\n",
    "d1=d1.groupby('filename').mean().reset_index()\n",
    "skm.log_loss(d1.relapse,d1.pred)\n",
    "# 0.3452049203765574"
   ]
  },
  {
   "cell_type": "code",
   "execution_count": null,
   "metadata": {
    "collapsed": false,
    "id": "j3fz4zdx1neI",
    "jupyter": {
     "outputs_hidden": false
    }
   },
   "outputs": [],
   "source": [
    "preds_mil=pd.concat([d0,d1]).groupby('filename').mean().reset_index()\n",
    "sc_log=skm.log_loss(d.relapse,d.pred)\n",
    "sc_acc = skm.accuracy_score(d.relapse,d.pred.round())\n",
    "sc_auc = skm.roc_auc_score(d.relapse,d.pred)\n",
    "sc_log,sc_acc,sc_auc\n",
    "# (0.3395005245986339, 0.8554396423248882, 0.8301126511059269)"
   ]
  },
  {
   "cell_type": "code",
   "execution_count": null,
   "metadata": {
    "collapsed": false,
    "id": "-ToY8Gxz10gk",
    "jupyter": {
     "outputs_hidden": false
    }
   },
   "outputs": [],
   "source": [
    "pred_swin256=pd.read_csv(f'{ROOT_PRED_DIR}/pred_swin256.csv')\n",
    "pred_swin384=pd.read_csv(f'{ROOT_PRED_DIR}/pred_swin384.csv')\n",
    "sc=skm.log_loss(pred_swin256.relapse,pred_swin256.relapse_pred);print(sc)\n",
    "sc=skm.log_loss(pred_swin384.relapse,pred_swin384.relapse_pred);print(sc)\n",
    "# 0.3481908503143639\n",
    "# 0.3511861126354013"
   ]
  },
  {
   "cell_type": "code",
   "execution_count": null,
   "metadata": {
    "collapsed": false,
    "id": "OJ28D6SeNJ-v",
    "jupyter": {
     "outputs_hidden": false
    }
   },
   "outputs": [],
   "source": [
    "preds_final=pd.concat([d0,d1,pred_swin256,pred_swin384]).groupby('filename').mean()\n",
    "sc_log=skm.log_loss(preds_final.relapse,preds_final.pred)\n",
    "sc_acc = skm.accuracy_score(preds_final.relapse,preds_final.pred.round())\n",
    "sc_auc = skm.roc_auc_score(preds_final.relapse,preds_final.pred)\n",
    "sc_log,sc_acc,sc_auc\n",
    "# (0.3351098028650469, 0.8561847988077497, 0.8390448982646989) "
   ]
  },
  {
   "cell_type": "code",
   "execution_count": null,
   "metadata": {
    "collapsed": false,
    "id": "bokXvELBNNEi",
    "jupyter": {
     "outputs_hidden": false
    }
   },
   "outputs": [],
   "source": []
  }
 ],
 "metadata": {
  "accelerator": "GPU",
  "colab": {
   "gpuType": "T4",
   "provenance": []
  },
  "gpuClass": "standard",
  "kernelspec": {
   "display_name": "Python 3 (ipykernel)",
   "language": "python",
   "name": "python3"
  },
  "language_info": {
   "codemirror_mode": {
    "name": "ipython",
    "version": 3
   },
   "file_extension": ".py",
   "mimetype": "text/x-python",
   "name": "python",
   "nbconvert_exporter": "python",
   "pygments_lexer": "ipython3",
   "version": "3.8.16"
  },
  "name": "train.ipynb"
 },
 "nbformat": 4,
 "nbformat_minor": 4
}
